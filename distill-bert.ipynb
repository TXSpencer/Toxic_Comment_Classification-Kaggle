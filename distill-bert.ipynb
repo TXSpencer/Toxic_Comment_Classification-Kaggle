{
 "cells": [
  {
   "cell_type": "code",
   "execution_count": 1,
   "metadata": {},
   "outputs": [
    {
     "name": "stdout",
     "output_type": "stream",
     "text": [
      "Epoch 1/5\n"
     ]
    },
    {
     "name": "stderr",
     "output_type": "stream",
     "text": [
      "                                                             \r"
     ]
    },
    {
     "name": "stdout",
     "output_type": "stream",
     "text": [
      "Loss: 0.0505\n"
     ]
    },
    {
     "name": "stderr",
     "output_type": "stream",
     "text": [
      "                                                               \r"
     ]
    },
    {
     "name": "stdout",
     "output_type": "stream",
     "text": [
      "Model saved to model/best_model.pth\n",
      "Validation Accuracy: 0.8480301018149624\n",
      "              precision    recall  f1-score   support\n",
      "\n",
      "         0.0       0.98      0.84      0.91     40125\n",
      "         1.0       0.42      0.88      0.57      5055\n",
      "\n",
      "    accuracy                           0.85     45180\n",
      "   macro avg       0.70      0.86      0.74     45180\n",
      "weighted avg       0.92      0.85      0.87     45180\n",
      "\n",
      "Epoch 2/5\n"
     ]
    },
    {
     "name": "stderr",
     "output_type": "stream",
     "text": [
      "                                                             \r"
     ]
    },
    {
     "name": "stdout",
     "output_type": "stream",
     "text": [
      "Loss: 0.0378\n"
     ]
    },
    {
     "name": "stderr",
     "output_type": "stream",
     "text": [
      "                                                               \r"
     ]
    },
    {
     "name": "stdout",
     "output_type": "stream",
     "text": [
      "Validation Accuracy: 0.8461487383798141\n",
      "              precision    recall  f1-score   support\n",
      "\n",
      "         0.0       0.98      0.84      0.91     40125\n",
      "         1.0       0.41      0.89      0.56      5055\n",
      "\n",
      "    accuracy                           0.85     45180\n",
      "   macro avg       0.70      0.87      0.74     45180\n",
      "weighted avg       0.92      0.85      0.87     45180\n",
      "\n",
      "Epoch 3/5\n"
     ]
    },
    {
     "name": "stderr",
     "output_type": "stream",
     "text": [
      "                                                             \r"
     ]
    },
    {
     "name": "stdout",
     "output_type": "stream",
     "text": [
      "Loss: 0.0278\n"
     ]
    },
    {
     "name": "stderr",
     "output_type": "stream",
     "text": [
      "                                                               \r"
     ]
    },
    {
     "name": "stdout",
     "output_type": "stream",
     "text": [
      "Model saved to model/best_model.pth\n",
      "Validation Accuracy: 0.8549136786188579\n",
      "              precision    recall  f1-score   support\n",
      "\n",
      "         0.0       0.98      0.85      0.91     40125\n",
      "         1.0       0.43      0.87      0.57      5055\n",
      "\n",
      "    accuracy                           0.85     45180\n",
      "   macro avg       0.70      0.86      0.74     45180\n",
      "weighted avg       0.92      0.85      0.87     45180\n",
      "\n",
      "Epoch 4/5\n"
     ]
    },
    {
     "name": "stderr",
     "output_type": "stream",
     "text": [
      "                                                             \r"
     ]
    },
    {
     "name": "stdout",
     "output_type": "stream",
     "text": [
      "Loss: 0.0177\n"
     ]
    },
    {
     "name": "stderr",
     "output_type": "stream",
     "text": [
      "                                                               \r"
     ]
    },
    {
     "name": "stdout",
     "output_type": "stream",
     "text": [
      "Validation Accuracy: 0.8196104471004869\n",
      "              precision    recall  f1-score   support\n",
      "\n",
      "         0.0       0.98      0.81      0.89     40125\n",
      "         1.0       0.37      0.90      0.53      5055\n",
      "\n",
      "    accuracy                           0.82     45180\n",
      "   macro avg       0.68      0.85      0.71     45180\n",
      "weighted avg       0.92      0.82      0.85     45180\n",
      "\n",
      "Epoch 5/5\n"
     ]
    },
    {
     "name": "stderr",
     "output_type": "stream",
     "text": [
      "                                                             \r"
     ]
    },
    {
     "name": "stdout",
     "output_type": "stream",
     "text": [
      "Loss: 0.0104\n"
     ]
    },
    {
     "name": "stderr",
     "output_type": "stream",
     "text": [
      "                                                               \r"
     ]
    },
    {
     "name": "stdout",
     "output_type": "stream",
     "text": [
      "Model saved to model/best_model.pth\n",
      "Validation Accuracy: 0.8552456839309429\n",
      "              precision    recall  f1-score   support\n",
      "\n",
      "         0.0       0.98      0.86      0.91     40125\n",
      "         1.0       0.43      0.85      0.57      5055\n",
      "\n",
      "    accuracy                           0.86     45180\n",
      "   macro avg       0.70      0.85      0.74     45180\n",
      "weighted avg       0.92      0.86      0.87     45180\n",
      "\n"
     ]
    },
    {
     "name": "stderr",
     "output_type": "stream",
     "text": [
      "C:\\Users\\ismoi\\AppData\\Local\\Temp\\ipykernel_32716\\2228154450.py:68: FutureWarning: You are using `torch.load` with `weights_only=False` (the current default value), which uses the default pickle module implicitly. It is possible to construct malicious pickle data which will execute arbitrary code during unpickling (See https://github.com/pytorch/pytorch/blob/main/SECURITY.md#untrusted-models for more details). In a future release, the default value for `weights_only` will be flipped to `True`. This limits the functions that could be executed during unpickling. Arbitrary objects will no longer be allowed to be loaded via this mode unless they are explicitly allowlisted by the user via `torch.serialization.add_safe_globals`. We recommend you start setting `weights_only=True` for any use case where you don't have full control of the loaded file. Please open an issue on GitHub for any issues related to this experimental feature.\n",
      "  model.load_state_dict(torch.load(model_path))\n",
      "                                                               \r"
     ]
    },
    {
     "name": "stdout",
     "output_type": "stream",
     "text": [
      "Predictions saved to prediction.csv\n"
     ]
    }
   ],
   "source": [
    "import torch\n",
    "import torch.nn as nn\n",
    "from torch.utils.data import DataLoader, Dataset\n",
    "from transformers import BertTokenizer, BertModel\n",
    "from sklearn.model_selection import train_test_split\n",
    "from sklearn.metrics import accuracy_score, classification_report\n",
    "from tqdm import tqdm\n",
    "import pandas as pd\n",
    "import os\n",
    "\n",
    "# Load datasets\n",
    "train_x = pd.read_csv('kaggle_data/train_x.csv')\n",
    "train_y = pd.read_csv('kaggle_data/train_y.csv')\n",
    "val_x = pd.read_csv('kaggle_data/val_x.csv')\n",
    "val_y = pd.read_csv('kaggle_data/val_y.csv')\n",
    "\n",
    "\n",
    "def preprocess_texts(texts):\n",
    "    texts = texts.fillna(\"[UNK]\")  # Replace NaN values with a placeholder\n",
    "    texts = texts.astype(str)  # Ensure all entries are strings\n",
    "    return texts\n",
    "\n",
    "train_x['string'] = preprocess_texts(train_x['string'])\n",
    "val_x['string'] = preprocess_texts(val_x['string'])\n",
    "\n",
    "# Handle dataset imbalance\n",
    "def balance_dataset(train_x, train_y):\n",
    "    # Merge inputs and labels for balancing\n",
    "    data = pd.concat([train_x, train_y], axis=1)\n",
    "\n",
    "    # Separate classes\n",
    "    toxic_data = data[data['y'] == 1]\n",
    "    non_toxic_data = data[data['y'] == 0]\n",
    "\n",
    "    # Balance the dataset by sampling the minority class\n",
    "    if len(toxic_data) > len(non_toxic_data):\n",
    "        toxic_data = toxic_data.sample(len(non_toxic_data), random_state=42)\n",
    "    else:\n",
    "        non_toxic_data = non_toxic_data.sample(len(toxic_data), random_state=42)\n",
    "\n",
    "    balanced_data = pd.concat([toxic_data, non_toxic_data]).sample(frac=1, random_state=42)\n",
    "\n",
    "    return balanced_data.drop(columns=['y']), balanced_data\n",
    "\n",
    "train_x, train_y = balance_dataset(train_x, train_y)\n",
    "\n",
    "def predict_and_save(test_path, model_path, output_path):\n",
    "    if not os.path.exists(test_path):\n",
    "        raise FileNotFoundError(f\"The file {test_path} does not exist.\")\n",
    "\n",
    "    test_x = pd.read_csv(test_path)\n",
    "\n",
    "    if 'string' not in test_x.columns:\n",
    "        raise ValueError(\"The test dataset must contain a 'string' column.\")\n",
    "\n",
    "    test_x['string'] = preprocess_texts(test_x['string'])\n",
    "    test_texts = test_x['string'].tolist()\n",
    "\n",
    "    # Prepare test dataset\n",
    "    test_dataset = ToxicCommentDataset(test_texts, [0]*len(test_texts), tokenizer, max_len)  # Dummy labels\n",
    "    test_loader = DataLoader(test_dataset, batch_size=16, shuffle=False)\n",
    "\n",
    "    # Load the trained model\n",
    "    if not os.path.exists(model_path):\n",
    "        raise FileNotFoundError(f\"The model file {model_path} does not exist.\")\n",
    "    \n",
    "    model = ToxicCommentClassifier(n_classes=1)\n",
    "    model.load_state_dict(torch.load(model_path))\n",
    "    model.eval()\n",
    "    device = torch.device(\"cuda\" if torch.cuda.is_available() else \"cpu\")\n",
    "    model = model.to(device)\n",
    "\n",
    "    # Predict\n",
    "    test_preds = []\n",
    "    with torch.no_grad():\n",
    "        for batch in tqdm(test_loader, desc=\"Predicting\", leave=False):\n",
    "            input_ids = batch['input_ids'].to(device)\n",
    "            attention_mask = batch['attention_mask'].to(device)\n",
    "\n",
    "            with torch.amp.autocast('cuda'):\n",
    "                outputs = model(input_ids, attention_mask)\n",
    "            test_preds.extend(torch.sigmoid(outputs).cpu().numpy())\n",
    "\n",
    "    test_preds = [1 if p > 0.5 else 0 for p in test_preds]\n",
    "\n",
    "    # Save predictions\n",
    "    test_x['prediction'] = test_preds\n",
    "    test_x[['index', 'prediction']].to_csv(output_path, index=False)\n",
    "    print(f\"Predictions saved to {output_path}\")\n",
    "\n",
    "# Define the Focal Loss class\n",
    "class FocalLoss(nn.Module):\n",
    "    def __init__(self, alpha=1, gamma=3, reduction='mean'):\n",
    "        super(FocalLoss, self).__init__()\n",
    "        self.alpha = alpha\n",
    "        self.gamma = gamma\n",
    "        self.reduction = reduction\n",
    "\n",
    "    def forward(self, inputs, targets):\n",
    "        BCE_loss = nn.BCEWithLogitsLoss(reduction='none')(inputs, targets)\n",
    "        pt = torch.exp(-BCE_loss)  # Prevents nans when probability is 0\n",
    "        F_loss = self.alpha * (1-pt)**self.gamma * BCE_loss\n",
    "\n",
    "        if self.reduction == 'mean':\n",
    "            return F_loss.mean()\n",
    "        elif self.reduction == 'sum':\n",
    "            return F_loss.sum()\n",
    "        else:\n",
    "            return F_loss\n",
    "\n",
    "# Define a custom Dataset\n",
    "class ToxicCommentDataset(Dataset):\n",
    "    def __init__(self, texts, labels, tokenizer, max_len):\n",
    "        self.texts = texts\n",
    "        self.labels = labels\n",
    "        self.tokenizer = tokenizer\n",
    "        self.max_len = max_len\n",
    "\n",
    "    def __len__(self):\n",
    "        return len(self.texts)\n",
    "\n",
    "    def __getitem__(self, idx):\n",
    "        text = self.texts[idx]\n",
    "        label = self.labels[idx]\n",
    "\n",
    "        encoding = self.tokenizer(\n",
    "            text,\n",
    "            max_length=self.max_len,\n",
    "            padding='max_length',\n",
    "            truncation=True,\n",
    "            return_tensors='pt'\n",
    "        )\n",
    "\n",
    "        return {\n",
    "            'input_ids': encoding['input_ids'].squeeze(0),\n",
    "            'attention_mask': encoding['attention_mask'].squeeze(0),\n",
    "            'labels': torch.tensor(label, dtype=torch.float)\n",
    "        }\n",
    "\n",
    "# Define the BERT-based model\n",
    "class ToxicCommentClassifier(nn.Module):\n",
    "    def __init__(self, n_classes):\n",
    "        super(ToxicCommentClassifier, self).__init__()\n",
    "        self.bert = BertModel.from_pretrained('bert-base-uncased')\n",
    "        self.dropout = nn.Dropout(0.3)\n",
    "        self.out = nn.Linear(self.bert.config.hidden_size, n_classes)\n",
    "\n",
    "    def forward(self, input_ids, attention_mask):\n",
    "        output = self.bert(input_ids=input_ids, attention_mask=attention_mask)\n",
    "        pooled_output = output.pooler_output\n",
    "        dropped_out = self.dropout(pooled_output)\n",
    "        return self.out(dropped_out)\n",
    "\n",
    "# Load data\n",
    "train_texts = train_x['string'].tolist()\n",
    "train_labels = train_y['y'].values\n",
    "val_texts = val_x['string'].tolist()\n",
    "val_labels = val_y['y'].values\n",
    "\n",
    "# Tokenizer and dataset\n",
    "tokenizer = BertTokenizer.from_pretrained('bert-base-uncased')\n",
    "max_len = 128\n",
    "\n",
    "train_dataset = ToxicCommentDataset(train_texts, train_labels, tokenizer, max_len)\n",
    "val_dataset = ToxicCommentDataset(val_texts, val_labels, tokenizer, max_len)\n",
    "\n",
    "train_loader = DataLoader(train_dataset, batch_size=32, shuffle=True)\n",
    "val_loader = DataLoader(val_dataset, batch_size=32, shuffle=False)\n",
    "\n",
    "# Model, loss, and optimizer\n",
    "model = ToxicCommentClassifier(n_classes=1)\n",
    "loss_fn = FocalLoss()\n",
    "optimizer = torch.optim.AdamW(model.parameters(), lr=2e-5)\n",
    "scaler = torch.amp.GradScaler('cuda')  # For mixed precision training\n",
    "\n",
    "# Define the worst group accuracy function\n",
    "def worst_group_accuracy(targets, preds, groups):\n",
    "    group_accuracies = {}\n",
    "\n",
    "    for group in groups.columns:\n",
    "        group_mask = groups[group].astype(bool).values  # Ensure group_mask is boolean\n",
    "        group_targets = targets[group_mask]\n",
    "        group_preds = preds[group_mask]\n",
    "\n",
    "        if len(group_targets) > 0:\n",
    "            accuracy = accuracy_score(group_targets, group_preds)\n",
    "            group_accuracies[group] = accuracy\n",
    "\n",
    "    worst_group = min(group_accuracies, key=group_accuracies.get)\n",
    "    return worst_group, group_accuracies[worst_group]\n",
    "\n",
    "# Training loop\n",
    "def train_model(model, train_loader, val_loader, loss_fn, optimizer, epochs=3, model_path=\"model/best_model.pth\", patience=3):\n",
    "    device = torch.device(\"cuda\" if torch.cuda.is_available() else \"cpu\")\n",
    "    model = model.to(device)\n",
    "\n",
    "    best_val_loss = float('inf')\n",
    "    no_improve_epochs = 0\n",
    "\n",
    "    for epoch in range(epochs):\n",
    "        model.train()\n",
    "        total_loss = 0\n",
    "\n",
    "        print(f\"Epoch {epoch+1}/{epochs}\")\n",
    "        for batch in tqdm(train_loader, desc=\"Training\", leave=False):\n",
    "            input_ids = batch['input_ids'].to(device)\n",
    "            attention_mask = batch['attention_mask'].to(device)\n",
    "            labels = batch['labels'].to(device)\n",
    "\n",
    "            optimizer.zero_grad()\n",
    "\n",
    "            with torch.amp.autocast('cuda'):\n",
    "                outputs = model(input_ids, attention_mask)\n",
    "                loss = loss_fn(outputs.squeeze(-1), labels)\n",
    "\n",
    "            scaler.scale(loss).backward()\n",
    "            scaler.step(optimizer)\n",
    "            scaler.update()\n",
    "\n",
    "            total_loss += loss.item()\n",
    "\n",
    "        print(f\"Loss: {total_loss / len(train_loader):.4f}\")\n",
    "\n",
    "        # Validation\n",
    "        model.eval()\n",
    "        val_preds = []\n",
    "        val_targets = []\n",
    "\n",
    "        with torch.no_grad():\n",
    "            for batch in tqdm(val_loader, desc=\"Validating\", leave=False):\n",
    "                input_ids = batch['input_ids'].to(device)\n",
    "                attention_mask = batch['attention_mask'].to(device)\n",
    "                labels = batch['labels'].to(device)\n",
    "\n",
    "                with torch.amp.autocast('cuda'):\n",
    "                    outputs = model(input_ids, attention_mask)\n",
    "                val_preds.extend(torch.sigmoid(outputs).cpu().numpy())\n",
    "                val_targets.extend(labels.cpu().numpy())\n",
    "\n",
    "        val_preds = [1 if p > 0.5 else 0 for p in val_preds]\n",
    "        val_loss = loss_fn(torch.tensor(val_preds, dtype=torch.float), torch.tensor(val_targets, dtype=torch.float)).item()\n",
    "\n",
    "        if val_loss < best_val_loss:\n",
    "            best_val_loss = val_loss\n",
    "            no_improve_epochs = 0\n",
    "            torch.save(model.state_dict(), model_path)\n",
    "            print(f\"Model saved to {model_path}\")\n",
    "        else:\n",
    "            no_improve_epochs += 1\n",
    "            if no_improve_epochs >= patience:\n",
    "                print(\"Early stopping triggered.\")\n",
    "                break\n",
    "\n",
    "        print(\"Validation Accuracy:\", accuracy_score(val_targets, val_preds))\n",
    "        print(classification_report(val_targets, val_preds))\n",
    "\n",
    "\n",
    "train_model(model, train_loader, val_loader, loss_fn, optimizer, epochs=5, model_path=\"model/best_model.pth\", patience=3)\n",
    "\n",
    "# Predict and save predictions\n",
    "predict_and_save(test_path='kaggle_data/test_x.csv', model_path=\"model/best_model.pth\", output_path=\"prediction.csv\")\n"
   ]
  },
  {
   "cell_type": "code",
   "execution_count": 8,
   "metadata": {},
   "outputs": [
    {
     "data": {
      "text/plain": [
       "(61030,)"
      ]
     },
     "execution_count": 8,
     "metadata": {},
     "output_type": "execute_result"
    }
   ],
   "source": [
    "train_labels.shape"
   ]
  }
 ],
 "metadata": {
  "kernelspec": {
   "display_name": "ai",
   "language": "python",
   "name": "python3"
  },
  "language_info": {
   "codemirror_mode": {
    "name": "ipython",
    "version": 3
   },
   "file_extension": ".py",
   "mimetype": "text/x-python",
   "name": "python",
   "nbconvert_exporter": "python",
   "pygments_lexer": "ipython3",
   "version": "3.12.7"
  }
 },
 "nbformat": 4,
 "nbformat_minor": 2
}
